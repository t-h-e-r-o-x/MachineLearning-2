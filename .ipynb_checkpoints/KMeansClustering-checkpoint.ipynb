{
 "cells": [
  {
   "cell_type": "code",
   "execution_count": 6,
   "metadata": {},
   "outputs": [
    {
     "ename": "IndentationError",
     "evalue": "expected an indented block (<ipython-input-6-4889d05a1445>, line 9)",
     "output_type": "error",
     "traceback": [
      "\u001b[1;36m  File \u001b[1;32m\"<ipython-input-6-4889d05a1445>\"\u001b[1;36m, line \u001b[1;32m9\u001b[0m\n\u001b[1;33m    def fit(self,data):\u001b[0m\n\u001b[1;37m      ^\u001b[0m\n\u001b[1;31mIndentationError\u001b[0m\u001b[1;31m:\u001b[0m expected an indented block\n"
     ]
    }
   ],
   "source": [
    "#Whenever you see _<name>_ , this method is something defined by python\n",
    "\n",
    "class K_Means:\n",
    "    \n",
    "    def _init_(self, k = 2, tol = 0.001, max_iter = 300):\n",
    "        #tol = 0.001 indicates the largest possible centroid shift that can be tolerated,i.e, we will stop iterations if diff = tol\n",
    "        #Why?Bcoz such a small shift may continue to oscillate between two possible centroids(due to boundary points)\n",
    "        \n",
    "    def fit(self,data):\n",
    "        #centroids dict\n",
    "        self.centroids = {}\n",
    "        #since k =2 we will select first two points from the data and we will declare that as a centroid\n",
    "        for i in range(self.k):\n",
    "            self.centroids[i] = data[i] #[[1,2], [5,8], ...]\n",
    "            #{0:[1,2], 1:[5,8]} is how centroids will look\n",
    "            \n",
    "        #we will run this loop for 300 times max\n",
    "        for i in range(self.max_iter):\n",
    "            self.classifications = {} #{0:[], 1:[]}\n",
    "            \n",
    "            for j in range(self.k):\n",
    "                self.classifications[j] = [] #setting up our classifications dictionary\n",
    "            \n",
    "            for featureset in data: #finding distance from centroid, finding min value\n",
    "                distances = [np.linalg.norm(featureset - self.centroids[centroid]) for centroid in self.centroids]\n",
    "                #centroid:0 -> self.centroids[0](the 0th class centroid point) -> find norm and store in list\n",
    "                classification = distances.index(min(distances)) #find index->will give which cluster the data belongs to\n",
    "                \n",
    "                self.classifications[classification].append(featureset)\n",
    "            \n",
    "            prev_centroids = dict(self.centroids) #storing previous centroids in another variable \n",
    "            #dict is used to specify datatype for prev_centroids, i.e, prev_centroids = {}\n",
    "            \n",
    "            \n",
    "            for classification in self.classifications:\n",
    "                self.centroids[classification] = np.average(self.classifications[classification], axis = 0)\n",
    "                \n",
    "            optimized = True\n",
    "            \n",
    "            for c in self.centroids:\n",
    "                original_centroid = prev_centroids[c]\n",
    "                current_centroid = self.centroids[c]\n",
    "                tolerance = np.sum(((current_centroid - original_centroid)/original_centroid)*100)\n",
    "                #tolerance formula \n",
    "                #read more about the maths\n",
    "                if tolerance > self.tol:\n",
    "                    optimized = False\n",
    "            \n",
    "            if optimized:\n",
    "                break\n",
    "            #exit max_iters as optimal centroids have been found\n",
    "\n",
    "def predict(self, data):\n",
    "    d = [np.linalg.norm(data - self.centroids[centroid]) for centroid in self.centroids]\n",
    "    pred = d.index(min(d))\n",
    "    return pred"
   ]
  },
  {
   "cell_type": "code",
   "execution_count": null,
   "metadata": {},
   "outputs": [],
   "source": []
  }
 ],
 "metadata": {
  "kernelspec": {
   "display_name": "Python 3",
   "language": "python",
   "name": "python3"
  },
  "language_info": {
   "codemirror_mode": {
    "name": "ipython",
    "version": 3
   },
   "file_extension": ".py",
   "mimetype": "text/x-python",
   "name": "python",
   "nbconvert_exporter": "python",
   "pygments_lexer": "ipython3",
   "version": "3.7.3"
  }
 },
 "nbformat": 4,
 "nbformat_minor": 2
}
