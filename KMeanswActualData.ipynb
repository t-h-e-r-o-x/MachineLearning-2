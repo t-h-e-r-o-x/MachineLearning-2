{
 "cells": [
  {
   "cell_type": "code",
   "execution_count": 21,
   "metadata": {},
   "outputs": [],
   "source": [
    "\n",
    "#Whenever you see _<name>_ , this method is something defined by python\n",
    "import numpy as np\n",
    "\n",
    "class K_Means:\n",
    "    \n",
    "    def __init__(self, k = 2, tol = 0.001, max_iter = 300):\n",
    "        self.k = k\n",
    "        self.tol = tol\n",
    "        self.max_iter = max_iter\n",
    "        #tol = 0.001 indicates the largest possible centroid shift that can be tolerated,i.e, we will stop iterations if diff = tol\n",
    "        #Why?Bcoz such a small shift may continue to oscillate between two possible centroids(due to boundary points)\n",
    "        \n",
    "    def fit(self,data):\n",
    "        #centroids dict\n",
    "        self.centroids = {}\n",
    "        #since k =2 we will select first two points from the data and we will declare that as a centroid\n",
    "        for i in range(self.k):\n",
    "            self.centroids[i] = data[i] #[[1,2], [5,8], ...]\n",
    "            #{0:[1,2], 1:[5,8]} is how centroids will look\n",
    "            \n",
    "        #we will run this loop for 300 times max\n",
    "        for i in range(self.max_iter):\n",
    "            self.classifications = {} #{0:[], 1:[]}\n",
    "            \n",
    "            for j in range(self.k):\n",
    "                self.classifications[j] = [] #setting up our classifications dictionary\n",
    "            \n",
    "            for featureset in data: #finding distance from centroid, finding min value\n",
    "                distances = [np.linalg.norm(featureset - self.centroids[centroid]) for centroid in self.centroids]\n",
    "                #centroid:0 -> self.centroids[0](the 0th class centroid point) -> find norm and store in list\n",
    "                classification = distances.index(min(distances)) #find index->will give which cluster the data belongs to\n",
    "                \n",
    "                self.classifications[classification].append(featureset)\n",
    "            \n",
    "            prev_centroids = dict(self.centroids) #storing previous centroids in another variable \n",
    "            #dict is used to specify datatype for prev_centroids, i.e, prev_centroids = {}\n",
    "            \n",
    "            \n",
    "            for classification in self.classifications:\n",
    "                self.centroids[classification] = np.average(self.classifications[classification], axis = 0)\n",
    "                \n",
    "            optimized = True\n",
    "            \n",
    "            for c in self.centroids:\n",
    "                original_centroid = prev_centroids[c]\n",
    "                current_centroid = self.centroids[c]\n",
    "                tolerance = np.sum(((current_centroid - original_centroid)/original_centroid)*100)\n",
    "                #tolerance formula \n",
    "                #read more about the maths\n",
    "                if tolerance > self.tol:\n",
    "                    optimized = False\n",
    "            \n",
    "            if optimized:\n",
    "                break\n",
    "            #exit max_iters as optimal centroids have been found\n",
    "\n",
    "def predict(self, data):\n",
    "    d = [np.linalg.norm(data - self.centroids[centroid]) for centroid in self.centroids]\n",
    "    pred = d.index(min(d))\n",
    "    return pred\n"
   ]
  },
  {
   "cell_type": "code",
   "execution_count": 22,
   "metadata": {},
   "outputs": [
    {
     "data": {
      "text/plain": [
       "{0: array([ 3.3750e+00,  2.4375e+00,  2.8750e+00,  1.8125e+00,  2.4375e+00,\n",
       "        -9.9999e+04,  3.1250e+00,  2.7500e+00,  1.0000e+00]),\n",
       " 1: array([7.16450216, 6.77922078, 6.71861472, 5.73160173, 5.46320346,\n",
       "        7.92640693, 6.0952381 , 6.03896104, 2.56277056]),\n",
       " 2: array([3.05088496, 1.29646018, 1.42477876, 1.34734513, 2.09513274,\n",
       "        1.30530973, 2.09070796, 1.25      , 1.11283186])}"
      ]
     },
     "execution_count": 22,
     "metadata": {},
     "output_type": "execute_result"
    }
   ],
   "source": [
    "import numpy as np\n",
    "import matplotlib.pyplot as plt\n",
    "import pandas as pd\n",
    "import random\n",
    "\n",
    "df=pd.read_csv(\"breast-cancer-dataset.data.txt\")\n",
    "#print(df)\n",
    "\n",
    "df.replace('?', -99999, inplace = True)\n",
    "df.drop(['id'], 1, inplace = True)\n",
    "df.drop(['label'], 1 , inplace = True)\n",
    "data = df.astype(float).values.tolist()\n",
    "#print(data)\n",
    "\n",
    "data = np.array(data)\n",
    "clf = K_Means(k = 3)\n",
    "clf.fit(data)\n",
    "clf.centroids\n"
   ]
  }
 ],
 "metadata": {
  "kernelspec": {
   "display_name": "Python 3",
   "language": "python",
   "name": "python3"
  },
  "language_info": {
   "codemirror_mode": {
    "name": "ipython",
    "version": 3
   },
   "file_extension": ".py",
   "mimetype": "text/x-python",
   "name": "python",
   "nbconvert_exporter": "python",
   "pygments_lexer": "ipython3",
   "version": "3.7.3"
  }
 },
 "nbformat": 4,
 "nbformat_minor": 2
}
